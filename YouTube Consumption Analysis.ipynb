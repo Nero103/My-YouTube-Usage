{
 "cells": [
  {
   "cell_type": "markdown",
   "id": "a2b867d6",
   "metadata": {},
   "source": [
    "# Introduction"
   ]
  },
  {
   "cell_type": "markdown",
   "id": "b3216c53",
   "metadata": {},
   "source": [
    "For this project, my Youtube data will be analyzed to solve a question. \n",
    "\n",
    "**Why do I hit my high speed data limit half way through the month?**\n",
    "\n",
    "Naturally, I suspect I watch too many videos during the day while doing other activities, but that assumption does not help me know the exact time or dates. By answering this question, I can not only uncover how much I watch but plan a better schedule around this activity.\n",
    "\n",
    "For this part of the project, I chose to use Python to collect the data. Python was selected for its flexbility with gathering and manipulating data. Once the data data is extracted, and transformed in Jupyter Notebook, it will be loaded into SQL to handle the data size and conduct analysis, and then the data will be loaded into Tableau for visualization and statistical modeling. \n",
    "\n",
    "First off, I need a hypothesis."
   ]
  },
  {
   "cell_type": "markdown",
   "id": "f5700aa6",
   "metadata": {},
   "source": [
    "## Hypothesis"
   ]
  },
  {
   "cell_type": "markdown",
   "id": "7f8e373a",
   "metadata": {},
   "source": [
    "With the question of **why my high speed data is consumed half way through the month**, a hypothesis can be formed from it. For my hypothesis, based on my recalled activity, I expect that:\n",
    "\n",
    "1. My total YouTube use is around three hours a day. This time includes while I am doing other things like excersizing, studying, or other activities.\n",
    "\n",
    "2. I suspect my search activity correlates with evening time such as between 6:00 to 9:00 PM."
   ]
  },
  {
   "cell_type": "markdown",
   "id": "c4a54fb7",
   "metadata": {},
   "source": [
    "## Obtain the Data"
   ]
  },
  {
   "cell_type": "code",
   "execution_count": 1,
   "id": "15902090",
   "metadata": {
    "collapsed": true
   },
   "outputs": [],
   "source": [
    "# Imports\n",
    "import numpy as np\n",
    "import pandas as pd\n",
    "from pandas import json_normalize\n",
    "import json"
   ]
  },
  {
   "cell_type": "code",
   "execution_count": 2,
   "id": "f6fe401a",
   "metadata": {
    "collapsed": true
   },
   "outputs": [
    {
     "data": {
      "text/plain": [
       "'C:\\\\Users\\\\nerol\\\\Documents\\\\A_Projects\\\\Youtube'"
      ]
     },
     "execution_count": 2,
     "metadata": {},
     "output_type": "execute_result"
    }
   ],
   "source": [
    "# import os\n",
    "import os\n",
    "\n",
    "# Checking the current working directory\n",
    "os.getcwd()"
   ]
  },
  {
   "cell_type": "code",
   "execution_count": 3,
   "id": "6f6c5093",
   "metadata": {
    "collapsed": true
   },
   "outputs": [],
   "source": [
    "# File path to JSON file on desktop\n",
    "file_path = 'C:\\\\Users\\\\nerol\\\\Documents\\\\A_Projects\\\\Youtube\\\\takeout-20231015T030511Z-001\\\\Takeout\\\\YouTube and YouTube Music\\\\history\\\\watch-history.json'\n",
    "\n",
    "# Error detecting\n",
    "try:\n",
    "    with open(file_path, 'rb') as json_file:\n",
    "        # JSON data\n",
    "        data = json.load(json_file)\n",
    "        # At this point in the code, the 'data' variable contains parsed JSON data\n",
    "        \n",
    "    # print(data[0:10])\n",
    "    # The commented out print statement was validating if the above try clause worked\n",
    "\n",
    "except FileNotFoundError:\n",
    "    print(f'file not found: {file_path}')\n",
    "        "
   ]
  },
  {
   "cell_type": "code",
   "execution_count": 4,
   "id": "ff5ead6f",
   "metadata": {
    "collapsed": true
   },
   "outputs": [],
   "source": [
    "# Use json normalize to convert JSON data to a dataframe \n",
    "# because it handels nested structures and lists\n",
    "df = json_normalize(data)"
   ]
  },
  {
   "cell_type": "code",
   "execution_count": 5,
   "id": "7bfe2f8a",
   "metadata": {
    "collapsed": true
   },
   "outputs": [
    {
     "data": {
      "text/html": [
       "<div>\n",
       "<style scoped>\n",
       "    .dataframe tbody tr th:only-of-type {\n",
       "        vertical-align: middle;\n",
       "    }\n",
       "\n",
       "    .dataframe tbody tr th {\n",
       "        vertical-align: top;\n",
       "    }\n",
       "\n",
       "    .dataframe thead th {\n",
       "        text-align: right;\n",
       "    }\n",
       "</style>\n",
       "<table border=\"1\" class=\"dataframe\">\n",
       "  <thead>\n",
       "    <tr style=\"text-align: right;\">\n",
       "      <th></th>\n",
       "      <th>header</th>\n",
       "      <th>title</th>\n",
       "      <th>titleUrl</th>\n",
       "      <th>subtitles</th>\n",
       "      <th>time</th>\n",
       "      <th>products</th>\n",
       "      <th>activityControls</th>\n",
       "      <th>description</th>\n",
       "      <th>details</th>\n",
       "    </tr>\n",
       "  </thead>\n",
       "  <tbody>\n",
       "    <tr>\n",
       "      <th>0</th>\n",
       "      <td>YouTube Music</td>\n",
       "      <td>Watched ULTRAnumb</td>\n",
       "      <td>https://www.youtube.com/watch?v=s9SpJcsTSYE</td>\n",
       "      <td>[{'name': 'Blue Stahli - Topic', 'url': 'https...</td>\n",
       "      <td>2023-10-15T02:20:45.054Z</td>\n",
       "      <td>[YouTube]</td>\n",
       "      <td>[YouTube watch history]</td>\n",
       "      <td>NaN</td>\n",
       "      <td>NaN</td>\n",
       "    </tr>\n",
       "    <tr>\n",
       "      <th>1</th>\n",
       "      <td>YouTube</td>\n",
       "      <td>Watched How To Add Music Not on Spotify to You...</td>\n",
       "      <td>https://www.youtube.com/watch?v=qb6q5L4OFI0</td>\n",
       "      <td>[{'name': 'VitalYT', 'url': 'https://www.youtu...</td>\n",
       "      <td>2023-10-15T01:21:25.359Z</td>\n",
       "      <td>[YouTube]</td>\n",
       "      <td>[YouTube watch history]</td>\n",
       "      <td>NaN</td>\n",
       "      <td>NaN</td>\n",
       "    </tr>\n",
       "    <tr>\n",
       "      <th>2</th>\n",
       "      <td>YouTube</td>\n",
       "      <td>Watched Meta SMM Learner Story</td>\n",
       "      <td>https://www.youtube.com/watch?v=vChPdjCzdE4</td>\n",
       "      <td>NaN</td>\n",
       "      <td>2023-10-15T01:20:11.117Z</td>\n",
       "      <td>[YouTube]</td>\n",
       "      <td>[Web &amp; App Activity, YouTube watch history, Yo...</td>\n",
       "      <td>Watched at 9:20 PM</td>\n",
       "      <td>[{'name': 'From Google Ads'}]</td>\n",
       "    </tr>\n",
       "    <tr>\n",
       "      <th>3</th>\n",
       "      <td>YouTube</td>\n",
       "      <td>Watched Add Music from the Computer to Spotify...</td>\n",
       "      <td>https://www.youtube.com/watch?v=dp_lj3zacao</td>\n",
       "      <td>[{'name': 'Fizzness Shizzness', 'url': 'https:...</td>\n",
       "      <td>2023-10-15T01:14:20.765Z</td>\n",
       "      <td>[YouTube]</td>\n",
       "      <td>[YouTube watch history]</td>\n",
       "      <td>NaN</td>\n",
       "      <td>NaN</td>\n",
       "    </tr>\n",
       "    <tr>\n",
       "      <th>4</th>\n",
       "      <td>YouTube</td>\n",
       "      <td>Watched Bluehost Makes WordPress WONDERful!</td>\n",
       "      <td>https://www.youtube.com/watch?v=i2tNeZwZu5w</td>\n",
       "      <td>NaN</td>\n",
       "      <td>2023-10-15T01:14:13.037Z</td>\n",
       "      <td>[YouTube]</td>\n",
       "      <td>[Web &amp; App Activity, YouTube watch history, Yo...</td>\n",
       "      <td>Watched at 9:14 PM</td>\n",
       "      <td>[{'name': 'From Google Ads'}]</td>\n",
       "    </tr>\n",
       "    <tr>\n",
       "      <th>5</th>\n",
       "      <td>YouTube</td>\n",
       "      <td>Watched The Dumbest Skyrim Region Lock</td>\n",
       "      <td>https://www.youtube.com/watch?v=Z-LacT1Tqbc</td>\n",
       "      <td>[{'name': 'That'sCoolDude', 'url': 'https://ww...</td>\n",
       "      <td>2023-10-15T01:13:22.444Z</td>\n",
       "      <td>[YouTube]</td>\n",
       "      <td>[YouTube watch history]</td>\n",
       "      <td>NaN</td>\n",
       "      <td>NaN</td>\n",
       "    </tr>\n",
       "    <tr>\n",
       "      <th>6</th>\n",
       "      <td>YouTube</td>\n",
       "      <td>Watched How to play all the audio on your devi...</td>\n",
       "      <td>https://www.youtube.com/watch?v=TklGbxW8Du8</td>\n",
       "      <td>[{'name': 'SpotifyCares', 'url': 'https://www....</td>\n",
       "      <td>2023-10-15T00:47:39.486Z</td>\n",
       "      <td>[YouTube]</td>\n",
       "      <td>[YouTube watch history]</td>\n",
       "      <td>NaN</td>\n",
       "      <td>NaN</td>\n",
       "    </tr>\n",
       "    <tr>\n",
       "      <th>7</th>\n",
       "      <td>YouTube</td>\n",
       "      <td>Watched Coursera | Get that interview-acing fe...</td>\n",
       "      <td>https://www.youtube.com/watch?v=IYGFNPoJ0go</td>\n",
       "      <td>NaN</td>\n",
       "      <td>2023-10-14T21:26:07.609Z</td>\n",
       "      <td>[YouTube]</td>\n",
       "      <td>[Web &amp; App Activity, YouTube watch history, Yo...</td>\n",
       "      <td>Watched at 5:26 PM</td>\n",
       "      <td>[{'name': 'From Google Ads'}]</td>\n",
       "    </tr>\n",
       "    <tr>\n",
       "      <th>8</th>\n",
       "      <td>YouTube</td>\n",
       "      <td>Watched Top 7 strongest subaru versions</td>\n",
       "      <td>https://www.youtube.com/watch?v=AF78zJ6x44c</td>\n",
       "      <td>[{'name': 'Kumagawa Edits', 'url': 'https://ww...</td>\n",
       "      <td>2023-10-14T21:24:58.932Z</td>\n",
       "      <td>[YouTube]</td>\n",
       "      <td>[YouTube watch history]</td>\n",
       "      <td>NaN</td>\n",
       "      <td>NaN</td>\n",
       "    </tr>\n",
       "    <tr>\n",
       "      <th>9</th>\n",
       "      <td>YouTube</td>\n",
       "      <td>Watched okami sings in the shower #oc #mha #bnha</td>\n",
       "      <td>https://www.youtube.com/watch?v=wAiljSDgqA0</td>\n",
       "      <td>[{'name': 'alexotoonz', 'url': 'https://www.yo...</td>\n",
       "      <td>2023-10-14T17:02:27.461Z</td>\n",
       "      <td>[YouTube]</td>\n",
       "      <td>[YouTube watch history]</td>\n",
       "      <td>NaN</td>\n",
       "      <td>NaN</td>\n",
       "    </tr>\n",
       "  </tbody>\n",
       "</table>\n",
       "</div>"
      ],
      "text/plain": [
       "          header                                              title  \\\n",
       "0  YouTube Music                                  Watched ULTRAnumb   \n",
       "1        YouTube  Watched How To Add Music Not on Spotify to You...   \n",
       "2        YouTube                     Watched Meta SMM Learner Story   \n",
       "3        YouTube  Watched Add Music from the Computer to Spotify...   \n",
       "4        YouTube        Watched Bluehost Makes WordPress WONDERful!   \n",
       "5        YouTube             Watched The Dumbest Skyrim Region Lock   \n",
       "6        YouTube  Watched How to play all the audio on your devi...   \n",
       "7        YouTube  Watched Coursera | Get that interview-acing fe...   \n",
       "8        YouTube            Watched Top 7 strongest subaru versions   \n",
       "9        YouTube   Watched okami sings in the shower #oc #mha #bnha   \n",
       "\n",
       "                                      titleUrl  \\\n",
       "0  https://www.youtube.com/watch?v=s9SpJcsTSYE   \n",
       "1  https://www.youtube.com/watch?v=qb6q5L4OFI0   \n",
       "2  https://www.youtube.com/watch?v=vChPdjCzdE4   \n",
       "3  https://www.youtube.com/watch?v=dp_lj3zacao   \n",
       "4  https://www.youtube.com/watch?v=i2tNeZwZu5w   \n",
       "5  https://www.youtube.com/watch?v=Z-LacT1Tqbc   \n",
       "6  https://www.youtube.com/watch?v=TklGbxW8Du8   \n",
       "7  https://www.youtube.com/watch?v=IYGFNPoJ0go   \n",
       "8  https://www.youtube.com/watch?v=AF78zJ6x44c   \n",
       "9  https://www.youtube.com/watch?v=wAiljSDgqA0   \n",
       "\n",
       "                                           subtitles  \\\n",
       "0  [{'name': 'Blue Stahli - Topic', 'url': 'https...   \n",
       "1  [{'name': 'VitalYT', 'url': 'https://www.youtu...   \n",
       "2                                                NaN   \n",
       "3  [{'name': 'Fizzness Shizzness', 'url': 'https:...   \n",
       "4                                                NaN   \n",
       "5  [{'name': 'That'sCoolDude', 'url': 'https://ww...   \n",
       "6  [{'name': 'SpotifyCares', 'url': 'https://www....   \n",
       "7                                                NaN   \n",
       "8  [{'name': 'Kumagawa Edits', 'url': 'https://ww...   \n",
       "9  [{'name': 'alexotoonz', 'url': 'https://www.yo...   \n",
       "\n",
       "                       time   products  \\\n",
       "0  2023-10-15T02:20:45.054Z  [YouTube]   \n",
       "1  2023-10-15T01:21:25.359Z  [YouTube]   \n",
       "2  2023-10-15T01:20:11.117Z  [YouTube]   \n",
       "3  2023-10-15T01:14:20.765Z  [YouTube]   \n",
       "4  2023-10-15T01:14:13.037Z  [YouTube]   \n",
       "5  2023-10-15T01:13:22.444Z  [YouTube]   \n",
       "6  2023-10-15T00:47:39.486Z  [YouTube]   \n",
       "7  2023-10-14T21:26:07.609Z  [YouTube]   \n",
       "8  2023-10-14T21:24:58.932Z  [YouTube]   \n",
       "9  2023-10-14T17:02:27.461Z  [YouTube]   \n",
       "\n",
       "                                    activityControls         description  \\\n",
       "0                            [YouTube watch history]                 NaN   \n",
       "1                            [YouTube watch history]                 NaN   \n",
       "2  [Web & App Activity, YouTube watch history, Yo...  Watched at 9:20 PM   \n",
       "3                            [YouTube watch history]                 NaN   \n",
       "4  [Web & App Activity, YouTube watch history, Yo...  Watched at 9:14 PM   \n",
       "5                            [YouTube watch history]                 NaN   \n",
       "6                            [YouTube watch history]                 NaN   \n",
       "7  [Web & App Activity, YouTube watch history, Yo...  Watched at 5:26 PM   \n",
       "8                            [YouTube watch history]                 NaN   \n",
       "9                            [YouTube watch history]                 NaN   \n",
       "\n",
       "                         details  \n",
       "0                            NaN  \n",
       "1                            NaN  \n",
       "2  [{'name': 'From Google Ads'}]  \n",
       "3                            NaN  \n",
       "4  [{'name': 'From Google Ads'}]  \n",
       "5                            NaN  \n",
       "6                            NaN  \n",
       "7  [{'name': 'From Google Ads'}]  \n",
       "8                            NaN  \n",
       "9                            NaN  "
      ]
     },
     "execution_count": 5,
     "metadata": {},
     "output_type": "execute_result"
    }
   ],
   "source": [
    "# Preview the dataframe\n",
    "df.head(10)"
   ]
  },
  {
   "cell_type": "code",
   "execution_count": 6,
   "id": "44aa4351",
   "metadata": {
    "collapsed": true
   },
   "outputs": [
    {
     "data": {
      "text/plain": [
       "(50400, 9)"
      ]
     },
     "execution_count": 6,
     "metadata": {},
     "output_type": "execute_result"
    }
   ],
   "source": [
    "# Understand the shape of the data\n",
    "df.shape"
   ]
  },
  {
   "cell_type": "code",
   "execution_count": 7,
   "id": "6e49f429",
   "metadata": {
    "collapsed": true
   },
   "outputs": [
    {
     "name": "stdout",
     "output_type": "stream",
     "text": [
      "<class 'pandas.core.frame.DataFrame'>\n",
      "RangeIndex: 50400 entries, 0 to 50399\n",
      "Data columns (total 9 columns):\n",
      " #   Column            Non-Null Count  Dtype \n",
      "---  ------            --------------  ----- \n",
      " 0   header            50400 non-null  object\n",
      " 1   title             50400 non-null  object\n",
      " 2   titleUrl          49764 non-null  object\n",
      " 3   subtitles         36808 non-null  object\n",
      " 4   time              50400 non-null  object\n",
      " 5   products          50400 non-null  object\n",
      " 6   activityControls  50400 non-null  object\n",
      " 7   description       11057 non-null  object\n",
      " 8   details           11314 non-null  object\n",
      "dtypes: object(9)\n",
      "memory usage: 3.5+ MB\n"
     ]
    }
   ],
   "source": [
    "# What are the data types and missing values\n",
    "df.info()"
   ]
  },
  {
   "cell_type": "markdown",
   "id": "b016cce8",
   "metadata": {},
   "source": [
    "## Data Cleaning"
   ]
  },
  {
   "cell_type": "markdown",
   "id": "0aff2dbd",
   "metadata": {},
   "source": [
    "### Check for duplicates"
   ]
  },
  {
   "cell_type": "code",
   "execution_count": 8,
   "id": "ead3801a",
   "metadata": {
    "collapsed": true
   },
   "outputs": [
    {
     "data": {
      "text/plain": [
       "Index(['header', 'title', 'titleUrl', 'subtitles', 'time', 'products',\n",
       "       'activityControls', 'description', 'details'],\n",
       "      dtype='object')"
      ]
     },
     "execution_count": 8,
     "metadata": {},
     "output_type": "execute_result"
    }
   ],
   "source": [
    "# Get a list of columns for referencing\n",
    "df.columns"
   ]
  },
  {
   "cell_type": "code",
   "execution_count": 9,
   "id": "5505b6ce",
   "metadata": {
    "collapsed": true
   },
   "outputs": [
    {
     "data": {
      "text/plain": [
       "0"
      ]
     },
     "execution_count": 9,
     "metadata": {},
     "output_type": "execute_result"
    }
   ],
   "source": [
    "# Checking for duplicates in columns except for 'subtitles', 'products', 'activityControls', and 'deatails'\n",
    "# because they have list values and are unhashable\n",
    "# and duplicates will be counted|\n",
    "\n",
    "df[['header', 'title', 'titleUrl', 'time',\n",
    "       'description']].duplicated().sum()"
   ]
  },
  {
   "cell_type": "markdown",
   "id": "dcce7838",
   "metadata": {},
   "source": [
    "Since there are no duplicates in the select columns, we can continue onto the next data cleaning steps."
   ]
  },
  {
   "cell_type": "markdown",
   "id": "9bb54ce9",
   "metadata": {},
   "source": [
    "### Format the data"
   ]
  },
  {
   "cell_type": "code",
   "execution_count": 10,
   "id": "6d3b20e2",
   "metadata": {
    "collapsed": true
   },
   "outputs": [
    {
     "name": "stdout",
     "output_type": "stream",
     "text": [
      "2023-10-15T02:20:45.054Z\n"
     ]
    }
   ],
   "source": [
    "# Understand the values in the 'time' column\n",
    "print(df['time'][0])"
   ]
  },
  {
   "cell_type": "code",
   "execution_count": 11,
   "id": "f7a68082",
   "metadata": {
    "collapsed": true
   },
   "outputs": [
    {
     "name": "stdout",
     "output_type": "stream",
     "text": [
      "0        02:20:45.054000\n",
      "1        01:21:25.359000\n",
      "2        01:20:11.117000\n",
      "3        01:14:20.765000\n",
      "4        01:14:13.037000\n",
      "              ...       \n",
      "50395    17:52:54.980000\n",
      "50396    17:45:02.689000\n",
      "50397    17:44:08.297000\n",
      "50398    17:43:43.613000\n",
      "50399    17:42:57.706000\n",
      "Name: timestamp, Length: 50400, dtype: object\n"
     ]
    }
   ],
   "source": [
    "# Import datetime for time manipulation\n",
    "from datetime import datetime\n",
    "\n",
    "# Change 'time' to datetime type and assign to 'timestamp'\n",
    "df['timestamp'] = pd.to_datetime(df['time'])\n",
    "\n",
    "# Extract the time form 'timestamp'\n",
    "df['timestamp'] = df['timestamp'].dt.time\n",
    "\n",
    "print(df['timestamp'])"
   ]
  },
  {
   "cell_type": "code",
   "execution_count": 12,
   "id": "1e56743c",
   "metadata": {
    "collapsed": true
   },
   "outputs": [
    {
     "name": "stdout",
     "output_type": "stream",
     "text": [
      "0        02:20:45\n",
      "1        01:21:25\n",
      "2        01:20:11\n",
      "3        01:14:20\n",
      "4        01:14:13\n",
      "           ...   \n",
      "50395    17:52:54\n",
      "50396    17:45:02\n",
      "50397    17:44:08\n",
      "50398    17:43:43\n",
      "50399    17:42:57\n",
      "Name: timestamp, Length: 50400, dtype: object\n"
     ]
    }
   ],
   "source": [
    "# Extract the time from 'timestamp', removing the miliseconds\n",
    "df['timestamp'] = df['timestamp'].astype(str).str[:-7]\n",
    "\n",
    "# View the 'timestamp' Series\n",
    "print(df['timestamp'])"
   ]
  },
  {
   "cell_type": "code",
   "execution_count": 13,
   "id": "18520f17",
   "metadata": {
    "collapsed": true
   },
   "outputs": [],
   "source": [
    "# Extract the date from 'time' and assign to 'date'\n",
    "df['date'] = pd.to_datetime(df['time']).dt.date"
   ]
  },
  {
   "cell_type": "code",
   "execution_count": 14,
   "id": "44bf7ac5",
   "metadata": {
    "collapsed": true
   },
   "outputs": [
    {
     "name": "stdout",
     "output_type": "stream",
     "text": [
      "0        2023-10-15\n",
      "1        2023-10-15\n",
      "2        2023-10-15\n",
      "3        2023-10-15\n",
      "4        2023-10-15\n",
      "            ...    \n",
      "50395    2019-11-29\n",
      "50396    2019-11-29\n",
      "50397    2019-11-29\n",
      "50398    2019-11-29\n",
      "50399    2019-11-29\n",
      "Name: date, Length: 50400, dtype: object\n"
     ]
    }
   ],
   "source": [
    "# View the 'date' Series\n",
    "print(df['date'])"
   ]
  },
  {
   "cell_type": "markdown",
   "id": "cbc7551b",
   "metadata": {},
   "source": [
    "Now, lets extract values of interest from the columns with list values"
   ]
  },
  {
   "cell_type": "code",
   "execution_count": 15,
   "id": "eceb0607",
   "metadata": {
    "collapsed": true
   },
   "outputs": [
    {
     "data": {
      "text/plain": [
       "['Web & App Activity', 'YouTube watch history', 'YouTube search history']"
      ]
     },
     "execution_count": 15,
     "metadata": {},
     "output_type": "execute_result"
    }
   ],
   "source": [
    "# Explore values in activityControls' list value\n",
    "df['activityControls'].iloc[8000]"
   ]
  },
  {
   "cell_type": "code",
   "execution_count": 16,
   "id": "be06ed9c",
   "metadata": {
    "collapsed": true
   },
   "outputs": [],
   "source": [
    "# Defining function to extracting 'YouTube search history' from 'activityControls'\n",
    "def extract_text_from_list(input_list):\n",
    "    return [item for item in input_list if 'search' in item]\n",
    "\n",
    "# Applying function to 'activityControls' and assigning it to the 'search_activity' to be added to the dataframe\n",
    "df['search_activity'] = df['activityControls'].apply(extract_text_from_list)"
   ]
  },
  {
   "cell_type": "code",
   "execution_count": 17,
   "id": "de48268b",
   "metadata": {
    "collapsed": true
   },
   "outputs": [],
   "source": [
    "# Defining function to extracting 'YouTube watch history' from 'activityControls'\n",
    "def extract_text2_from_list(input_list):\n",
    "    return [item for item in input_list if 'watch' in item]\n",
    "\n",
    "# Applying function to 'activityControls' and assigning it to the 'watch_activity' to be added to the dataframe\n",
    "df['watch_activity'] = df['activityControls'].apply(extract_text2_from_list)"
   ]
  },
  {
   "cell_type": "code",
   "execution_count": 18,
   "id": "1f912659",
   "metadata": {
    "collapsed": true
   },
   "outputs": [],
   "source": [
    "# Defining function to extracting 'Web & App history' from 'activityControls'\n",
    "def extract_text3_from_list(input_list):\n",
    "    return [item for item in input_list if 'Web & App' in item]\n",
    "\n",
    "# Applying function to 'activityControls' and assigning it to the 'web_app_activity' to be added to the dataframe\n",
    "df['web_app_activity'] = df['activityControls'].apply(extract_text3_from_list)"
   ]
  },
  {
   "cell_type": "code",
   "execution_count": 19,
   "id": "a5f13adb",
   "metadata": {
    "collapsed": true
   },
   "outputs": [],
   "source": [
    "# Add 'search_activity', 'watch_activity', and 'web_app_activity' to the dataframe\n",
    "\n",
    "df['new_search_activity'] = df['search_activity'].apply(lambda x: ' '.join(map(str, x)))\n",
    "\n",
    "df['new_watch_activity'] = df['watch_activity'].apply(lambda x: ' '.join(map(str, x)))\n",
    "\n",
    "df['new_web_app_activity'] = df['web_app_activity'].apply(lambda x: ' '.join(map(str, x)))"
   ]
  },
  {
   "cell_type": "code",
   "execution_count": 20,
   "id": "12510692",
   "metadata": {
    "collapsed": true
   },
   "outputs": [
    {
     "data": {
      "text/html": [
       "<div>\n",
       "<style scoped>\n",
       "    .dataframe tbody tr th:only-of-type {\n",
       "        vertical-align: middle;\n",
       "    }\n",
       "\n",
       "    .dataframe tbody tr th {\n",
       "        vertical-align: top;\n",
       "    }\n",
       "\n",
       "    .dataframe thead th {\n",
       "        text-align: right;\n",
       "    }\n",
       "</style>\n",
       "<table border=\"1\" class=\"dataframe\">\n",
       "  <thead>\n",
       "    <tr style=\"text-align: right;\">\n",
       "      <th></th>\n",
       "      <th>header</th>\n",
       "      <th>title</th>\n",
       "      <th>titleUrl</th>\n",
       "      <th>subtitles</th>\n",
       "      <th>time</th>\n",
       "      <th>products</th>\n",
       "      <th>activityControls</th>\n",
       "      <th>description</th>\n",
       "      <th>details</th>\n",
       "      <th>timestamp</th>\n",
       "      <th>date</th>\n",
       "      <th>search_activity</th>\n",
       "      <th>watch_activity</th>\n",
       "      <th>web_app_activity</th>\n",
       "      <th>new_search_activity</th>\n",
       "      <th>new_watch_activity</th>\n",
       "      <th>new_web_app_activity</th>\n",
       "    </tr>\n",
       "  </thead>\n",
       "  <tbody>\n",
       "    <tr>\n",
       "      <th>0</th>\n",
       "      <td>YouTube Music</td>\n",
       "      <td>Watched ULTRAnumb</td>\n",
       "      <td>https://www.youtube.com/watch?v=s9SpJcsTSYE</td>\n",
       "      <td>[{'name': 'Blue Stahli - Topic', 'url': 'https...</td>\n",
       "      <td>2023-10-15T02:20:45.054Z</td>\n",
       "      <td>[YouTube]</td>\n",
       "      <td>[YouTube watch history]</td>\n",
       "      <td>NaN</td>\n",
       "      <td>NaN</td>\n",
       "      <td>02:20:45</td>\n",
       "      <td>2023-10-15</td>\n",
       "      <td>[]</td>\n",
       "      <td>[YouTube watch history]</td>\n",
       "      <td>[]</td>\n",
       "      <td></td>\n",
       "      <td>YouTube watch history</td>\n",
       "      <td></td>\n",
       "    </tr>\n",
       "    <tr>\n",
       "      <th>1</th>\n",
       "      <td>YouTube</td>\n",
       "      <td>Watched How To Add Music Not on Spotify to You...</td>\n",
       "      <td>https://www.youtube.com/watch?v=qb6q5L4OFI0</td>\n",
       "      <td>[{'name': 'VitalYT', 'url': 'https://www.youtu...</td>\n",
       "      <td>2023-10-15T01:21:25.359Z</td>\n",
       "      <td>[YouTube]</td>\n",
       "      <td>[YouTube watch history]</td>\n",
       "      <td>NaN</td>\n",
       "      <td>NaN</td>\n",
       "      <td>01:21:25</td>\n",
       "      <td>2023-10-15</td>\n",
       "      <td>[]</td>\n",
       "      <td>[YouTube watch history]</td>\n",
       "      <td>[]</td>\n",
       "      <td></td>\n",
       "      <td>YouTube watch history</td>\n",
       "      <td></td>\n",
       "    </tr>\n",
       "    <tr>\n",
       "      <th>2</th>\n",
       "      <td>YouTube</td>\n",
       "      <td>Watched Meta SMM Learner Story</td>\n",
       "      <td>https://www.youtube.com/watch?v=vChPdjCzdE4</td>\n",
       "      <td>NaN</td>\n",
       "      <td>2023-10-15T01:20:11.117Z</td>\n",
       "      <td>[YouTube]</td>\n",
       "      <td>[Web &amp; App Activity, YouTube watch history, Yo...</td>\n",
       "      <td>Watched at 9:20 PM</td>\n",
       "      <td>[{'name': 'From Google Ads'}]</td>\n",
       "      <td>01:20:11</td>\n",
       "      <td>2023-10-15</td>\n",
       "      <td>[YouTube search history]</td>\n",
       "      <td>[YouTube watch history]</td>\n",
       "      <td>[Web &amp; App Activity]</td>\n",
       "      <td>YouTube search history</td>\n",
       "      <td>YouTube watch history</td>\n",
       "      <td>Web &amp; App Activity</td>\n",
       "    </tr>\n",
       "    <tr>\n",
       "      <th>3</th>\n",
       "      <td>YouTube</td>\n",
       "      <td>Watched Add Music from the Computer to Spotify...</td>\n",
       "      <td>https://www.youtube.com/watch?v=dp_lj3zacao</td>\n",
       "      <td>[{'name': 'Fizzness Shizzness', 'url': 'https:...</td>\n",
       "      <td>2023-10-15T01:14:20.765Z</td>\n",
       "      <td>[YouTube]</td>\n",
       "      <td>[YouTube watch history]</td>\n",
       "      <td>NaN</td>\n",
       "      <td>NaN</td>\n",
       "      <td>01:14:20</td>\n",
       "      <td>2023-10-15</td>\n",
       "      <td>[]</td>\n",
       "      <td>[YouTube watch history]</td>\n",
       "      <td>[]</td>\n",
       "      <td></td>\n",
       "      <td>YouTube watch history</td>\n",
       "      <td></td>\n",
       "    </tr>\n",
       "    <tr>\n",
       "      <th>4</th>\n",
       "      <td>YouTube</td>\n",
       "      <td>Watched Bluehost Makes WordPress WONDERful!</td>\n",
       "      <td>https://www.youtube.com/watch?v=i2tNeZwZu5w</td>\n",
       "      <td>NaN</td>\n",
       "      <td>2023-10-15T01:14:13.037Z</td>\n",
       "      <td>[YouTube]</td>\n",
       "      <td>[Web &amp; App Activity, YouTube watch history, Yo...</td>\n",
       "      <td>Watched at 9:14 PM</td>\n",
       "      <td>[{'name': 'From Google Ads'}]</td>\n",
       "      <td>01:14:13</td>\n",
       "      <td>2023-10-15</td>\n",
       "      <td>[YouTube search history]</td>\n",
       "      <td>[YouTube watch history]</td>\n",
       "      <td>[Web &amp; App Activity]</td>\n",
       "      <td>YouTube search history</td>\n",
       "      <td>YouTube watch history</td>\n",
       "      <td>Web &amp; App Activity</td>\n",
       "    </tr>\n",
       "  </tbody>\n",
       "</table>\n",
       "</div>"
      ],
      "text/plain": [
       "          header                                              title  \\\n",
       "0  YouTube Music                                  Watched ULTRAnumb   \n",
       "1        YouTube  Watched How To Add Music Not on Spotify to You...   \n",
       "2        YouTube                     Watched Meta SMM Learner Story   \n",
       "3        YouTube  Watched Add Music from the Computer to Spotify...   \n",
       "4        YouTube        Watched Bluehost Makes WordPress WONDERful!   \n",
       "\n",
       "                                      titleUrl  \\\n",
       "0  https://www.youtube.com/watch?v=s9SpJcsTSYE   \n",
       "1  https://www.youtube.com/watch?v=qb6q5L4OFI0   \n",
       "2  https://www.youtube.com/watch?v=vChPdjCzdE4   \n",
       "3  https://www.youtube.com/watch?v=dp_lj3zacao   \n",
       "4  https://www.youtube.com/watch?v=i2tNeZwZu5w   \n",
       "\n",
       "                                           subtitles  \\\n",
       "0  [{'name': 'Blue Stahli - Topic', 'url': 'https...   \n",
       "1  [{'name': 'VitalYT', 'url': 'https://www.youtu...   \n",
       "2                                                NaN   \n",
       "3  [{'name': 'Fizzness Shizzness', 'url': 'https:...   \n",
       "4                                                NaN   \n",
       "\n",
       "                       time   products  \\\n",
       "0  2023-10-15T02:20:45.054Z  [YouTube]   \n",
       "1  2023-10-15T01:21:25.359Z  [YouTube]   \n",
       "2  2023-10-15T01:20:11.117Z  [YouTube]   \n",
       "3  2023-10-15T01:14:20.765Z  [YouTube]   \n",
       "4  2023-10-15T01:14:13.037Z  [YouTube]   \n",
       "\n",
       "                                    activityControls         description  \\\n",
       "0                            [YouTube watch history]                 NaN   \n",
       "1                            [YouTube watch history]                 NaN   \n",
       "2  [Web & App Activity, YouTube watch history, Yo...  Watched at 9:20 PM   \n",
       "3                            [YouTube watch history]                 NaN   \n",
       "4  [Web & App Activity, YouTube watch history, Yo...  Watched at 9:14 PM   \n",
       "\n",
       "                         details timestamp        date  \\\n",
       "0                            NaN  02:20:45  2023-10-15   \n",
       "1                            NaN  01:21:25  2023-10-15   \n",
       "2  [{'name': 'From Google Ads'}]  01:20:11  2023-10-15   \n",
       "3                            NaN  01:14:20  2023-10-15   \n",
       "4  [{'name': 'From Google Ads'}]  01:14:13  2023-10-15   \n",
       "\n",
       "            search_activity           watch_activity      web_app_activity  \\\n",
       "0                        []  [YouTube watch history]                    []   \n",
       "1                        []  [YouTube watch history]                    []   \n",
       "2  [YouTube search history]  [YouTube watch history]  [Web & App Activity]   \n",
       "3                        []  [YouTube watch history]                    []   \n",
       "4  [YouTube search history]  [YouTube watch history]  [Web & App Activity]   \n",
       "\n",
       "      new_search_activity     new_watch_activity new_web_app_activity  \n",
       "0                          YouTube watch history                       \n",
       "1                          YouTube watch history                       \n",
       "2  YouTube search history  YouTube watch history   Web & App Activity  \n",
       "3                          YouTube watch history                       \n",
       "4  YouTube search history  YouTube watch history   Web & App Activity  "
      ]
     },
     "execution_count": 20,
     "metadata": {},
     "output_type": "execute_result"
    }
   ],
   "source": [
    "# Preview the dataframe\n",
    "df.head()"
   ]
  },
  {
   "cell_type": "code",
   "execution_count": 21,
   "id": "03bed583",
   "metadata": {
    "collapsed": true
   },
   "outputs": [],
   "source": [
    "# Remove irrelevant columns\n",
    "columns_to_drop = ['header', 'titleUrl', 'subtitles', 'time', 'products', 'activityControls', 'description', 'details',\n",
    "        'search_activity', 'watch_activity', 'web_app_activity']\n",
    "\n",
    "# Assign remaing columns to the 'df2'\n",
    "df2 = df.drop(columns= columns_to_drop)"
   ]
  },
  {
   "cell_type": "code",
   "execution_count": 22,
   "id": "47ebf228",
   "metadata": {
    "collapsed": true
   },
   "outputs": [
    {
     "data": {
      "text/html": [
       "<div>\n",
       "<style scoped>\n",
       "    .dataframe tbody tr th:only-of-type {\n",
       "        vertical-align: middle;\n",
       "    }\n",
       "\n",
       "    .dataframe tbody tr th {\n",
       "        vertical-align: top;\n",
       "    }\n",
       "\n",
       "    .dataframe thead th {\n",
       "        text-align: right;\n",
       "    }\n",
       "</style>\n",
       "<table border=\"1\" class=\"dataframe\">\n",
       "  <thead>\n",
       "    <tr style=\"text-align: right;\">\n",
       "      <th></th>\n",
       "      <th>title</th>\n",
       "      <th>timestamp</th>\n",
       "      <th>date</th>\n",
       "      <th>new_search_activity</th>\n",
       "      <th>new_watch_activity</th>\n",
       "      <th>new_web_app_activity</th>\n",
       "    </tr>\n",
       "  </thead>\n",
       "  <tbody>\n",
       "    <tr>\n",
       "      <th>0</th>\n",
       "      <td>Watched ULTRAnumb</td>\n",
       "      <td>02:20:45</td>\n",
       "      <td>2023-10-15</td>\n",
       "      <td></td>\n",
       "      <td>YouTube watch history</td>\n",
       "      <td></td>\n",
       "    </tr>\n",
       "    <tr>\n",
       "      <th>1</th>\n",
       "      <td>Watched How To Add Music Not on Spotify to You...</td>\n",
       "      <td>01:21:25</td>\n",
       "      <td>2023-10-15</td>\n",
       "      <td></td>\n",
       "      <td>YouTube watch history</td>\n",
       "      <td></td>\n",
       "    </tr>\n",
       "    <tr>\n",
       "      <th>2</th>\n",
       "      <td>Watched Meta SMM Learner Story</td>\n",
       "      <td>01:20:11</td>\n",
       "      <td>2023-10-15</td>\n",
       "      <td>YouTube search history</td>\n",
       "      <td>YouTube watch history</td>\n",
       "      <td>Web &amp; App Activity</td>\n",
       "    </tr>\n",
       "    <tr>\n",
       "      <th>3</th>\n",
       "      <td>Watched Add Music from the Computer to Spotify...</td>\n",
       "      <td>01:14:20</td>\n",
       "      <td>2023-10-15</td>\n",
       "      <td></td>\n",
       "      <td>YouTube watch history</td>\n",
       "      <td></td>\n",
       "    </tr>\n",
       "    <tr>\n",
       "      <th>4</th>\n",
       "      <td>Watched Bluehost Makes WordPress WONDERful!</td>\n",
       "      <td>01:14:13</td>\n",
       "      <td>2023-10-15</td>\n",
       "      <td>YouTube search history</td>\n",
       "      <td>YouTube watch history</td>\n",
       "      <td>Web &amp; App Activity</td>\n",
       "    </tr>\n",
       "  </tbody>\n",
       "</table>\n",
       "</div>"
      ],
      "text/plain": [
       "                                               title timestamp        date  \\\n",
       "0                                  Watched ULTRAnumb  02:20:45  2023-10-15   \n",
       "1  Watched How To Add Music Not on Spotify to You...  01:21:25  2023-10-15   \n",
       "2                     Watched Meta SMM Learner Story  01:20:11  2023-10-15   \n",
       "3  Watched Add Music from the Computer to Spotify...  01:14:20  2023-10-15   \n",
       "4        Watched Bluehost Makes WordPress WONDERful!  01:14:13  2023-10-15   \n",
       "\n",
       "      new_search_activity     new_watch_activity new_web_app_activity  \n",
       "0                          YouTube watch history                       \n",
       "1                          YouTube watch history                       \n",
       "2  YouTube search history  YouTube watch history   Web & App Activity  \n",
       "3                          YouTube watch history                       \n",
       "4  YouTube search history  YouTube watch history   Web & App Activity  "
      ]
     },
     "execution_count": 22,
     "metadata": {},
     "output_type": "execute_result"
    }
   ],
   "source": [
    "# Preview new dataframe\n",
    "df2.head()"
   ]
  },
  {
   "cell_type": "markdown",
   "id": "041463b5",
   "metadata": {},
   "source": [
    "### Handle missing values"
   ]
  },
  {
   "cell_type": "code",
   "execution_count": 23,
   "id": "cb4fdaa0",
   "metadata": {
    "collapsed": true
   },
   "outputs": [
    {
     "data": {
      "text/plain": [
       "title                   0\n",
       "timestamp               0\n",
       "date                    0\n",
       "new_search_activity     0\n",
       "new_watch_activity      0\n",
       "new_web_app_activity    0\n",
       "dtype: int64"
      ]
     },
     "execution_count": 23,
     "metadata": {},
     "output_type": "execute_result"
    }
   ],
   "source": [
    "# Check for missing values\n",
    "df2.isna().sum()"
   ]
  },
  {
   "cell_type": "markdown",
   "id": "a5016eac",
   "metadata": {},
   "source": [
    "Wow, turns out dropping the columns not needed for the analysis removed all the missing data too.\n",
    "\n",
    "Anyway, lets correct the remaining errors."
   ]
  },
  {
   "cell_type": "markdown",
   "id": "d0e6733c",
   "metadata": {},
   "source": [
    "### Fix erroneous columns"
   ]
  },
  {
   "cell_type": "code",
   "execution_count": 24,
   "id": "ca0a4815",
   "metadata": {
    "collapsed": true
   },
   "outputs": [],
   "source": [
    "# Variable with new column labels\n",
    "new_column_names = {\n",
    "    'title': 'title',\n",
    "    'timestamp': 'time',\n",
    "    'date': 'date',\n",
    "    'new_search_activity': 'search_activity',\n",
    "    'new_watch_activity': 'watch_activity',\n",
    "    'new_web_app_activity': 'platform_activity'\n",
    "}"
   ]
  },
  {
   "cell_type": "code",
   "execution_count": 25,
   "id": "a2b6e39a",
   "metadata": {
    "collapsed": true
   },
   "outputs": [],
   "source": [
    "# Assign new column labels to dataframe to overwrite old names\n",
    "df2 = df2.rename(columns= new_column_names)"
   ]
  },
  {
   "cell_type": "code",
   "execution_count": 26,
   "id": "d4174fdb",
   "metadata": {
    "collapsed": true
   },
   "outputs": [
    {
     "data": {
      "text/html": [
       "<div>\n",
       "<style scoped>\n",
       "    .dataframe tbody tr th:only-of-type {\n",
       "        vertical-align: middle;\n",
       "    }\n",
       "\n",
       "    .dataframe tbody tr th {\n",
       "        vertical-align: top;\n",
       "    }\n",
       "\n",
       "    .dataframe thead th {\n",
       "        text-align: right;\n",
       "    }\n",
       "</style>\n",
       "<table border=\"1\" class=\"dataframe\">\n",
       "  <thead>\n",
       "    <tr style=\"text-align: right;\">\n",
       "      <th></th>\n",
       "      <th>title</th>\n",
       "      <th>time</th>\n",
       "      <th>date</th>\n",
       "      <th>search_activity</th>\n",
       "      <th>watch_activity</th>\n",
       "      <th>platform_activity</th>\n",
       "    </tr>\n",
       "  </thead>\n",
       "  <tbody>\n",
       "    <tr>\n",
       "      <th>0</th>\n",
       "      <td>Watched ULTRAnumb</td>\n",
       "      <td>02:20:45</td>\n",
       "      <td>2023-10-15</td>\n",
       "      <td></td>\n",
       "      <td>YouTube watch history</td>\n",
       "      <td></td>\n",
       "    </tr>\n",
       "    <tr>\n",
       "      <th>1</th>\n",
       "      <td>Watched How To Add Music Not on Spotify to You...</td>\n",
       "      <td>01:21:25</td>\n",
       "      <td>2023-10-15</td>\n",
       "      <td></td>\n",
       "      <td>YouTube watch history</td>\n",
       "      <td></td>\n",
       "    </tr>\n",
       "    <tr>\n",
       "      <th>2</th>\n",
       "      <td>Watched Meta SMM Learner Story</td>\n",
       "      <td>01:20:11</td>\n",
       "      <td>2023-10-15</td>\n",
       "      <td>YouTube search history</td>\n",
       "      <td>YouTube watch history</td>\n",
       "      <td>Web &amp; App Activity</td>\n",
       "    </tr>\n",
       "    <tr>\n",
       "      <th>3</th>\n",
       "      <td>Watched Add Music from the Computer to Spotify...</td>\n",
       "      <td>01:14:20</td>\n",
       "      <td>2023-10-15</td>\n",
       "      <td></td>\n",
       "      <td>YouTube watch history</td>\n",
       "      <td></td>\n",
       "    </tr>\n",
       "    <tr>\n",
       "      <th>4</th>\n",
       "      <td>Watched Bluehost Makes WordPress WONDERful!</td>\n",
       "      <td>01:14:13</td>\n",
       "      <td>2023-10-15</td>\n",
       "      <td>YouTube search history</td>\n",
       "      <td>YouTube watch history</td>\n",
       "      <td>Web &amp; App Activity</td>\n",
       "    </tr>\n",
       "  </tbody>\n",
       "</table>\n",
       "</div>"
      ],
      "text/plain": [
       "                                               title      time        date  \\\n",
       "0                                  Watched ULTRAnumb  02:20:45  2023-10-15   \n",
       "1  Watched How To Add Music Not on Spotify to You...  01:21:25  2023-10-15   \n",
       "2                     Watched Meta SMM Learner Story  01:20:11  2023-10-15   \n",
       "3  Watched Add Music from the Computer to Spotify...  01:14:20  2023-10-15   \n",
       "4        Watched Bluehost Makes WordPress WONDERful!  01:14:13  2023-10-15   \n",
       "\n",
       "          search_activity         watch_activity   platform_activity  \n",
       "0                          YouTube watch history                      \n",
       "1                          YouTube watch history                      \n",
       "2  YouTube search history  YouTube watch history  Web & App Activity  \n",
       "3                          YouTube watch history                      \n",
       "4  YouTube search history  YouTube watch history  Web & App Activity  "
      ]
     },
     "execution_count": 26,
     "metadata": {},
     "output_type": "execute_result"
    }
   ],
   "source": [
    "# Preview dataset\n",
    "df2.head()"
   ]
  },
  {
   "cell_type": "code",
   "execution_count": 27,
   "id": "4b0e62e7",
   "metadata": {
    "collapsed": true
   },
   "outputs": [],
   "source": [
    "df2['title'] = df2['title'].str.strip('\"')"
   ]
  },
  {
   "cell_type": "code",
   "execution_count": 28,
   "id": "3c3c071c",
   "metadata": {
    "collapsed": true
   },
   "outputs": [],
   "source": [
    "df2['date'] = pd.to_datetime(df2['date'])"
   ]
  },
  {
   "cell_type": "code",
   "execution_count": 32,
   "id": "337c92f6",
   "metadata": {
    "collapsed": true
   },
   "outputs": [
    {
     "data": {
      "text/plain": [
       "0                                                ULTRAnumb\n",
       "1        How To Add Music Not on Spotify to Your Phone ...\n",
       "2                                   Meta SMM Learner Story\n",
       "3               Add Music from the Computer to Spotify App\n",
       "4                      Bluehost Makes WordPress WONDERful!\n",
       "                               ...                        \n",
       "50395    [SFM] Blood and Ink (BENDY AND THE INK MACHINE...\n",
       "50396              [MMD/ BATIM]  Bendy- Boris  (Da Da Da )\n",
       "50397          https://www.youtube.com/watch?v=Om8VNpMvKK4\n",
       "50398          https://www.youtube.com/watch?v=RQ0oetQsf1E\n",
       "50399               [ MMD ] Bendy's Childish War [ BATIM ]\n",
       "Name: title, Length: 50400, dtype: object"
      ]
     },
     "execution_count": 32,
     "metadata": {},
     "output_type": "execute_result"
    }
   ],
   "source": [
    "df2['title']df2['title'].str.replace('Watched', '').str.strip()"
   ]
  },
  {
   "cell_type": "markdown",
   "id": "74467e1e",
   "metadata": {},
   "source": [
    "## Load"
   ]
  },
  {
   "cell_type": "markdown",
   "id": "b18565b7",
   "metadata": {},
   "source": [
    "Now, the transformed and cleaned dataset can get loaded to a usable file"
   ]
  },
  {
   "cell_type": "code",
   "execution_count": 38,
   "id": "84f52357",
   "metadata": {
    "collapsed": true
   },
   "outputs": [],
   "source": [
    "file_destination = 'C:\\\\Users\\\\nerol\\\\Documents\\\\A_Projects\\\\Youtube\\\\youtube_watch.csv'\n",
    "\n",
    "# Load data out as a .csv file\n",
    "df2.to_csv(file_destination, index= False)"
   ]
  },
  {
   "cell_type": "code",
   "execution_count": null,
   "id": "fda22f03",
   "metadata": {
    "collapsed": true
   },
   "outputs": [],
   "source": []
  }
 ],
 "metadata": {
  "kernelspec": {
   "display_name": "Python 3 (ipykernel)",
   "language": "python",
   "name": "python3"
  },
  "language_info": {
   "codemirror_mode": {
    "name": "ipython",
    "version": 3
   },
   "file_extension": ".py",
   "mimetype": "text/x-python",
   "name": "python",
   "nbconvert_exporter": "python",
   "pygments_lexer": "ipython3",
   "version": "3.9.13"
  }
 },
 "nbformat": 4,
 "nbformat_minor": 5
}
